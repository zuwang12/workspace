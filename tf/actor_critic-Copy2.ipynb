{
 "cells": [
  {
   "cell_type": "markdown",
   "metadata": {
    "id": "_jQ1tEQCxwRx"
   },
   "source": [
    "##### Copyright 2020 The TensorFlow Authors."
   ]
  },
  {
   "cell_type": "code",
   "execution_count": 1,
   "metadata": {
    "cellView": "form",
    "id": "V_sgB_5dx1f1"
   },
   "outputs": [],
   "source": [
    "#@title Licensed under the Apache License, Version 2.0 (the \"License\");\n",
    "# you may not use this file except in compliance with the License.\n",
    "# You may obtain a copy of the License at\n",
    "#\n",
    "# https://www.apache.org/licenses/LICENSE-2.0\n",
    "#\n",
    "# Unless required by applicable law or agreed to in writing, software\n",
    "# distributed under the License is distributed on an \"AS IS\" BASIS,\n",
    "# WITHOUT WARRANTIES OR CONDITIONS OF ANY KIND, either express or implied.\n",
    "# See the License for the specific language governing permissions and\n",
    "# limitations under the License."
   ]
  },
  {
   "cell_type": "markdown",
   "metadata": {
    "id": "p62G8M_viUJp"
   },
   "source": [
    "# Playing CartPole with the Actor-Critic Method\n"
   ]
  },
  {
   "cell_type": "markdown",
   "metadata": {
    "id": "-mJ2i6jvZ3sK"
   },
   "source": [
    "<table class=\"tfo-notebook-buttons\" align=\"left\">\n",
    "  <td>\n",
    "    <a target=\"_blank\" href=\"https://www.tensorflow.org/tutorials/reinforcement_learning/actor_critic\">\n",
    "    <img src=\"https://www.tensorflow.org/images/tf_logo_32px.png\" />\n",
    "    View on TensorFlow.org</a>\n",
    "  </td>\n",
    "  <td>\n",
    "    <a target=\"_blank\" href=\"https://colab.research.google.com/github/tensorflow/docs/blob/master/site/en/tutorials/reinforcement_learning/actor_critic.ipynb\">\n",
    "    <img src=\"https://www.tensorflow.org/images/colab_logo_32px.png\" />\n",
    "    Run in Google Colab</a>\n",
    "  </td>\n",
    "  <td>\n",
    "    <a target=\"_blank\" href=\"https://github.com/tensorflow/docs/blob/master/site/en/tutorials/reinforcement_learning/actor_critic.ipynb\">\n",
    "    <img src=\"https://www.tensorflow.org/images/GitHub-Mark-32px.png\" />\n",
    "    View source on GitHub</a>\n",
    "  </td>\n",
    "  <td>\n",
    "    <a href=\"https://storage.googleapis.com/tensorflow_docs/docs/site/en/tutorials/reinforcement_learning/actor_critic.ipynb\"><img src=\"https://www.tensorflow.org/images/download_logo_32px.png\" />Download notebook</a>\n",
    "  </td>\n",
    "</table>"
   ]
  },
  {
   "cell_type": "markdown",
   "metadata": {
    "id": "kFgN7h_wiUJq"
   },
   "source": [
    "This tutorial demonstrates how to implement the [Actor-Critic](https://papers.nips.cc/paper/1786-actor-critic-algorithms.pdf) method using TensorFlow to train an agent on the [Open AI Gym](https://gym.openai.com/) CartPole-V0 environment.\n",
    "The reader is assumed to have some familiarity with [policy gradient methods](https://papers.nips.cc/paper/1713-policy-gradient-methods-for-reinforcement-learning-with-function-approximation.pdf) of reinforcement learning. \n"
   ]
  },
  {
   "cell_type": "markdown",
   "metadata": {
    "id": "_kA10ZKRR0hi"
   },
   "source": [
    "**Actor-Critic methods**\n",
    "\n",
    "Actor-Critic methods are [temporal difference (TD) learning](https://en.wikipedia.org/wiki/Temporal_difference_learning) methods that represent the policy function independent of the value function. \n",
    "\n",
    "A policy function (or policy) returns a probability distribution over actions that the agent can take based on the given state.\n",
    "A value function determines the expected return for an agent starting at a given state and acting according to a particular policy forever after.\n",
    "\n",
    "In the Actor-Critic method, the policy is referred to as the *actor* that proposes a set of possible actions given a state, and the estimated value function is referred to as the *critic*, which evaluates actions taken by the *actor* based on the given policy.\n",
    "\n",
    "In this tutorial, both the *Actor* and *Critic* will be represented using one neural network with two outputs.\n"
   ]
  },
  {
   "cell_type": "markdown",
   "metadata": {
    "id": "rBfiafKSRs2k"
   },
   "source": [
    "**CartPole-v0**\n",
    "\n",
    "In the [CartPole-v0 environment](https://gym.openai.com/envs/CartPole-v0), a pole is attached to a cart moving along a frictionless track. \n",
    "The pole starts upright and the goal of the agent is to prevent it from falling over by applying a force of -1 or +1 to the cart. \n",
    "A reward of +1 is given for every time step the pole remains upright.\n",
    "An episode ends when (1) the pole is more than 15 degrees from vertical or (2) the cart moves more than 2.4 units from the center.\n",
    "\n",
    "<center>\n",
    "  <figure>\n",
    "    <image src=\"images/cartpole-v0.gif\">\n",
    "    <figcaption>\n",
    "      Trained actor-critic model in Cartpole-v0 environment\n",
    "    </figcaption>\n",
    "  </figure>\n",
    "</center>\n"
   ]
  },
  {
   "cell_type": "markdown",
   "metadata": {
    "id": "XSNVK0AeRoJd"
   },
   "source": [
    "The problem is considered \"solved\" when the average total reward for the episode reaches 195 over 100 consecutive trials."
   ]
  },
  {
   "cell_type": "markdown",
   "metadata": {
    "id": "glLwIctHiUJq"
   },
   "source": [
    "## Setup\n",
    "\n",
    "Import necessary packages and configure global settings.\n"
   ]
  },
  {
   "cell_type": "code",
   "execution_count": 2,
   "metadata": {
    "id": "13l6BbxKhCKp"
   },
   "outputs": [],
   "source": [
    "!pip install -q gym"
   ]
  },
  {
   "cell_type": "code",
   "execution_count": 3,
   "metadata": {
    "id": "WBeQhPi2S4m5"
   },
   "outputs": [],
   "source": [
    "%%bash\n",
    "# Install additional packages for visualization\n",
    "sudo apt-get install -y xvfb python-opengl > /dev/null 2>&1\n",
    "pip install -q pyvirtualdisplay > /dev/null 2>&1\n",
    "pip install -q git+https://github.com/tensorflow/docs > /dev/null 2>&1"
   ]
  },
  {
   "cell_type": "code",
   "execution_count": 4,
   "metadata": {
    "id": "tT4N3qYviUJr"
   },
   "outputs": [],
   "source": [
    "import collections\n",
    "import gym\n",
    "import numpy as np\n",
    "import tensorflow as tf\n",
    "import tqdm\n",
    "\n",
    "from matplotlib import pyplot as plt\n",
    "from tensorflow.keras import layers\n",
    "from typing import Any, List, Sequence, Tuple\n",
    "\n",
    "\n",
    "# Create the environment\n",
    "env = gym.make(\"CartPole-v0\")\n",
    "\n",
    "# Set seed for experiment reproducibility\n",
    "seed = 42\n",
    "env.seed(seed)\n",
    "tf.random.set_seed(seed)\n",
    "np.random.seed(seed)\n",
    "\n",
    "# Small epsilon value for stabilizing division operations\n",
    "eps = np.finfo(np.float32).eps.item()"
   ]
  },
  {
   "cell_type": "markdown",
   "metadata": {
    "id": "AOUCe2D0iUJu"
   },
   "source": [
    "## Model\n",
    "\n",
    "The *Actor* and *Critic* will be modeled using one neural network that generates the action probabilities and critic value respectively. We use model subclassing to define the model. \n",
    "\n",
    "During the forward pass, the model will take in the state as the input and will output both action probabilities and critic value $V$, which models the state-dependent [value function](https://spinningup.openai.com/en/latest/spinningup/rl_intro.html#value-functions). The goal is to train a model that chooses actions based on a policy $\\pi$ that maximizes expected [return](https://spinningup.openai.com/en/latest/spinningup/rl_intro.html#reward-and-return).\n",
    "\n",
    "For Cartpole-v0, there are four values representing the state: cart position, cart-velocity, pole angle and pole velocity respectively. The agent can take two actions to push the cart left (0) and right (1) respectively.\n",
    "\n",
    "Refer to [OpenAI Gym's CartPole-v0 wiki page](http://www.derongliu.org/adp/adp-cdrom/Barto1983.pdf) for more information.\n"
   ]
  },
  {
   "cell_type": "code",
   "execution_count": 5,
   "metadata": {
    "id": "aXKbbMC-kmuv"
   },
   "outputs": [],
   "source": [
    "class ActorCritic(tf.keras.Model):\n",
    "  \"\"\"Combined actor-critic network.\"\"\"\n",
    "\n",
    "  def __init__(\n",
    "      self, \n",
    "      num_actions: int, \n",
    "      num_hidden_units: int):\n",
    "    \"\"\"Initialize.\"\"\"\n",
    "    super().__init__()\n",
    "\n",
    "    self.common = layers.Dense(num_hidden_units, activation=\"relu\")\n",
    "    self.actor = layers.Dense(num_actions)\n",
    "    self.critic = layers.Dense(1)\n",
    "\n",
    "  def call(self, inputs: tf.Tensor) -> Tuple[tf.Tensor, tf.Tensor]:\n",
    "    x = self.common(inputs)\n",
    "    return self.actor(x), self.critic(x)"
   ]
  },
  {
   "cell_type": "code",
   "execution_count": 6,
   "metadata": {
    "id": "nWyxJgjLn68c"
   },
   "outputs": [],
   "source": [
    "num_actions = env.action_space.n  # 2\n",
    "num_hidden_units = 128\n",
    "\n",
    "model = ActorCritic(num_actions, num_hidden_units)"
   ]
  },
  {
   "cell_type": "markdown",
   "metadata": {
    "id": "hk92njFziUJw"
   },
   "source": [
    "## Training\n",
    "\n",
    "To train the agent, you will follow these steps:\n",
    "\n",
    "1. Run the agent on the environment to collect training data per episode.\n",
    "2. Compute expected return at each time step.\n",
    "3. Compute the loss for the combined actor-critic model.\n",
    "4. Compute gradients and update network parameters.\n",
    "5. Repeat 1-4 until either success criterion or max episodes has been reached.\n"
   ]
  },
  {
   "cell_type": "markdown",
   "metadata": {
    "id": "R2nde2XDs8Gh"
   },
   "source": [
    "### 1. Collecting training data\n",
    "\n",
    "As in supervised learning, in order to train the actor-critic model, we need\n",
    "to have training data. However, in order to collect such data, the model would\n",
    "need to be \"run\" in the environment.\n",
    "\n",
    "We collect training data for each episode. Then at each time step, the model's forward pass will be run on the environment's state in order to generate action probabilities and the critic value based on the current policy parameterized by the model's weights.\n",
    "\n",
    "The next action will be sampled from the action probabilities generated by the model, which would then be applied to the environment, causing the next state and reward to be generated.\n",
    "\n",
    "This process is implemented in the `run_episode` function, which uses TensorFlow operations so that it can later be compiled into a TensorFlow graph for faster training. Note that `tf.TensorArray`s were used to support Tensor iteration on variable length arrays."
   ]
  },
  {
   "cell_type": "code",
   "execution_count": 7,
   "metadata": {
    "id": "5URrbGlDSAGx"
   },
   "outputs": [],
   "source": [
    "# Wrap OpenAI Gym's `env.step` call as an operation in a TensorFlow function.\n",
    "# This would allow it to be included in a callable TensorFlow graph.\n",
    "\n",
    "def env_step(action: np.ndarray) -> Tuple[np.ndarray, np.ndarray, np.ndarray]:\n",
    "  \"\"\"Returns state, reward and done flag given an action.\"\"\"\n",
    "\n",
    "  state, reward, done, _ = env.step(action)\n",
    "  return (state.astype(np.float32), \n",
    "          np.array(reward, np.int32), \n",
    "          np.array(done, np.int32))\n",
    "\n",
    "\n",
    "def tf_env_step(action: tf.Tensor) -> List[tf.Tensor]:\n",
    "  return tf.numpy_function(env_step, [action], \n",
    "                           [tf.float32, tf.int32, tf.int32])"
   ]
  },
  {
   "cell_type": "code",
   "execution_count": 8,
   "metadata": {
    "id": "a4qVRV063Cl9"
   },
   "outputs": [],
   "source": [
    "def run_episode(\n",
    "    initial_state: tf.Tensor,  \n",
    "    model: tf.keras.Model, \n",
    "    max_steps: int) -> List[tf.Tensor]:\n",
    "  \"\"\"Runs a single episode to collect training data.\"\"\"\n",
    "\n",
    "  action_probs = tf.TensorArray(dtype=tf.float32, size=0, dynamic_size=True)\n",
    "  values = tf.TensorArray(dtype=tf.float32, size=0, dynamic_size=True)\n",
    "  rewards = tf.TensorArray(dtype=tf.int32, size=0, dynamic_size=True)\n",
    "\n",
    "  initial_state_shape = initial_state.shape\n",
    "  state = initial_state\n",
    "\n",
    "  for t in tf.range(max_steps):\n",
    "    # Convert state into a batched tensor (batch size = 1)\n",
    "    state = tf.expand_dims(state, 0)\n",
    "  \n",
    "    # Run the model and to get action probabilities and critic value\n",
    "    action_logits_t, value = model(state)\n",
    "  \n",
    "    # Sample next action from the action probability distribution\n",
    "    action = tf.random.categorical(action_logits_t, 1)[0, 0]\n",
    "    action_probs_t = tf.nn.softmax(action_logits_t)\n",
    "\n",
    "    # Store critic values\n",
    "    values = values.write(t, tf.squeeze(value))\n",
    "\n",
    "    # Store log probability of the action chosen\n",
    "    action_probs = action_probs.write(t, action_probs_t[0, action])\n",
    "  \n",
    "    # Apply action to the environment to get next state and reward\n",
    "    state, reward, done = tf_env_step(action)\n",
    "    state.set_shape(initial_state_shape)\n",
    "  \n",
    "    # Store reward\n",
    "    rewards = rewards.write(t, reward)\n",
    "\n",
    "    if tf.cast(done, tf.bool):\n",
    "      break\n",
    "\n",
    "  action_probs = action_probs.stack()\n",
    "  values = values.stack()\n",
    "  rewards = rewards.stack()\n",
    "  \n",
    "  return action_probs, values, rewards"
   ]
  },
  {
   "cell_type": "markdown",
   "metadata": {
    "id": "lBnIHdz22dIx"
   },
   "source": [
    "### 2. Computing expected returns\n",
    "\n",
    "We convert the sequence of rewards for each timestep $t$, $\\{r_{t}\\}^{T}_{t=1}$ collected during one episode into a sequence of expected returns $\\{G_{t}\\}^{T}_{t=1}$ in which the sum of rewards is taken from the current timestep $t$ to $T$ and each reward is multiplied with an exponentially decaying discount factor $\\gamma$:\n",
    "\n",
    "$$G_{t} = \\sum^{T}_{t'=t} \\gamma^{t'-t}r_{t'}$$\n",
    "\n",
    "Since $\\gamma\\in(0,1)$, rewards further out from the current timestep are given less weight.\n",
    "\n",
    "Intuitively, expected return simply implies that rewards now are better than rewards later. In a mathematical sense, it is to ensure that the sum of the rewards converges.\n",
    "\n",
    "To stabilize training, we also standardize the resulting sequence of returns (i.e. to have zero mean and unit standard deviation).\n"
   ]
  },
  {
   "cell_type": "code",
   "execution_count": 9,
   "metadata": {
    "id": "jpEwFyl315dl"
   },
   "outputs": [],
   "source": [
    "def get_expected_return(\n",
    "    rewards: tf.Tensor, \n",
    "    gamma: float, \n",
    "    standardize: bool = True) -> tf.Tensor:\n",
    "  \"\"\"Compute expected returns per timestep.\"\"\"\n",
    "\n",
    "  n = tf.shape(rewards)[0]\n",
    "  returns = tf.TensorArray(dtype=tf.float32, size=n)\n",
    "\n",
    "  # Start from the end of `rewards` and accumulate reward sums\n",
    "  # into the `returns` array\n",
    "  rewards = tf.cast(rewards[::-1], dtype=tf.float32)\n",
    "  discounted_sum = tf.constant(0.0)\n",
    "  discounted_sum_shape = discounted_sum.shape\n",
    "  for i in tf.range(n):\n",
    "    reward = rewards[i]\n",
    "    discounted_sum = reward + gamma * discounted_sum\n",
    "    discounted_sum.set_shape(discounted_sum_shape)\n",
    "    returns = returns.write(i, discounted_sum)\n",
    "  returns = returns.stack()[::-1]\n",
    "\n",
    "  if standardize:\n",
    "    returns = ((returns - tf.math.reduce_mean(returns)) / \n",
    "               (tf.math.reduce_std(returns) + eps))\n",
    "\n",
    "  return returns"
   ]
  },
  {
   "cell_type": "markdown",
   "metadata": {
    "id": "1hrPLrgGxlvb"
   },
   "source": [
    "### 3. The actor-critic loss\n",
    "\n",
    "Since we are using a hybrid actor-critic model, we will use loss function that is a combination of actor and critic losses for training, as shown below:\n",
    "\n",
    "$$L = L_{actor} + L_{critic}$$\n",
    "\n",
    "#### Actor loss\n",
    "\n",
    "We formulate the actor loss based on [policy gradients with the critic as a state dependent baseline](https://www.youtube.com/watch?v=EKqxumCuAAY&t=62m23s) and compute single-sample (per-episode) estimates.\n",
    "\n",
    "$$L_{actor} = -\\sum^{T}_{t=1} log\\pi_{\\theta}(a_{t} | s_{t})[G(s_{t}, a_{t})  - V^{\\pi}_{\\theta}(s_{t})]$$\n",
    "\n",
    "where:\n",
    "- $T$: the number of timesteps per episode, which can vary per episode\n",
    "- $s_{t}$: the state at timestep $t$\n",
    "- $a_{t}$: chosen action at timestep $t$ given state $s$\n",
    "- $\\pi_{\\theta}$: is the policy (actor) parameterized by $\\theta$\n",
    "- $V^{\\pi}_{\\theta}$: is the value function (critic) also parameterized by $\\theta$\n",
    "- $G = G_{t}$: the expected return for a given state, action pair at timestep $t$\n",
    "\n",
    "We add a negative term to the sum since we want to maximize the probabilities of actions yielding higher rewards by minimizing the combined loss.\n",
    "\n",
    "<br>\n",
    "\n",
    "##### Advantage\n",
    "\n",
    "The $G - V$ term in our $L_{actor}$ formulation is called the [advantage](https://spinningup.openai.com/en/latest/spinningup/rl_intro.html#advantage-functions), which indicates how much better an action is given a particular state over a random action selected according to the policy $\\pi$ for that state.\n",
    "\n",
    "While it's possible to exclude a baseline, this may result in high variance during training. And the nice thing about choosing the critic $V$ as a baseline is that it trained to be as close as possible to $G$, leading to a lower variance.\n",
    "\n",
    "In addition, without the critic, the algorithm would try to increase probabilities for actions taken on a particular state based on expected return, which may not make much of a difference if the relative probabilities between actions remain the same.\n",
    "\n",
    "For instance, suppose that two actions for a given state would yield the same expected return. Without the critic, the algorithm would try to raise the probability of these actions based on the objective $J$. With the critic, it may turn out that there's no advantage ($G - V = 0$) and thus no benefit gained in increasing the actions' probabilities and the algorithm would set the gradients to zero.\n",
    "\n",
    "<br>\n",
    "\n",
    "#### Critic loss\n",
    "\n",
    "Training $V$ to be as close possible to $G$ can be set up as a regression problem with the following loss function:\n",
    "\n",
    "$$L_{critic} = L_{\\delta}(G, V^{\\pi}_{\\theta})$$\n",
    "\n",
    "where $L_{\\delta}$ is the [Huber loss](https://en.wikipedia.org/wiki/Huber_loss), which is less sensitive to outliers in data than squared-error loss.\n"
   ]
  },
  {
   "cell_type": "code",
   "execution_count": 10,
   "metadata": {
    "id": "9EXwbEez6n9m"
   },
   "outputs": [],
   "source": [
    "huber_loss = tf.keras.losses.Huber(reduction=tf.keras.losses.Reduction.SUM)\n",
    "\n",
    "def compute_loss(\n",
    "    action_probs: tf.Tensor,  \n",
    "    values: tf.Tensor,  \n",
    "    returns: tf.Tensor) -> tf.Tensor:\n",
    "  \"\"\"Computes the combined actor-critic loss.\"\"\"\n",
    "\n",
    "  advantage = returns - values\n",
    "\n",
    "  action_log_probs = tf.math.log(action_probs)\n",
    "  actor_loss = -tf.math.reduce_sum(action_log_probs * advantage)\n",
    "\n",
    "  critic_loss = huber_loss(values, returns)\n",
    "\n",
    "  return actor_loss + critic_loss"
   ]
  },
  {
   "cell_type": "markdown",
   "metadata": {
    "id": "HSYkQOmRfV75"
   },
   "source": [
    "### 4. Defining the training step to update parameters\n",
    "\n",
    "We combine all of the steps above into a training step that is run every episode. All steps leading up to the loss function are executed with the `tf.GradientTape` context to enable automatic differentiation.\n",
    "\n",
    "We use the Adam optimizer to apply the gradients to the model parameters.\n",
    "\n",
    "We also compute the sum of the undiscounted rewards, `episode_reward`, in this step which would be used later on to evaluate if we have met the success criterion.\n",
    "\n",
    "We apply the `tf.function` context to the `train_step` function so that it can be compiled into a callable TensorFlow graph, which can lead to 10x speedup in training.\n"
   ]
  },
  {
   "cell_type": "code",
   "execution_count": 11,
   "metadata": {
    "id": "QoccrkF3IFCg"
   },
   "outputs": [],
   "source": [
    "optimizer = tf.keras.optimizers.Adam(learning_rate=0.01)\n",
    "\n",
    "\n",
    "@tf.function\n",
    "def train_step(\n",
    "    initial_state: tf.Tensor, \n",
    "    model: tf.keras.Model, \n",
    "    optimizer: tf.keras.optimizers.Optimizer, \n",
    "    gamma: float, \n",
    "    max_steps_per_episode: int) -> tf.Tensor:\n",
    "  \"\"\"Runs a model training step.\"\"\"\n",
    "\n",
    "  with tf.GradientTape() as tape:\n",
    "\n",
    "    # Run the model for one episode to collect training data\n",
    "    action_probs, values, rewards = run_episode(\n",
    "        initial_state, model, max_steps_per_episode) \n",
    "\n",
    "    # Calculate expected returns\n",
    "    returns = get_expected_return(rewards, gamma)\n",
    "\n",
    "    # Convert training data to appropriate TF tensor shapes\n",
    "    action_probs, values, returns = [\n",
    "        tf.expand_dims(x, 1) for x in [action_probs, values, returns]] \n",
    "\n",
    "    # Calculating loss values to update our network\n",
    "    loss = compute_loss(action_probs, values, returns)\n",
    "\n",
    "  # Compute the gradients from the loss\n",
    "  grads = tape.gradient(loss, model.trainable_variables)\n",
    "\n",
    "  # Apply the gradients to the model's parameters\n",
    "  optimizer.apply_gradients(zip(grads, model.trainable_variables))\n",
    "\n",
    "  episode_reward = tf.math.reduce_sum(rewards)\n",
    "\n",
    "  return episode_reward"
   ]
  },
  {
   "cell_type": "markdown",
   "metadata": {
    "id": "HFvZiDoAflGK"
   },
   "source": [
    "### 5. Run the training loop\n",
    "\n",
    "We execute training by run the training step until either the success criterion or maximum number of episodes is reached.  \n",
    "\n",
    "We keep a running record of episode rewards using a queue. Once 100 trials are reached, the oldest reward is removed at the left (tail) end of the queue and the newest one is added at the head (right). A running sum of the rewards is also maintained for computational efficiency. \n",
    "\n",
    "Depending on your runtime, training can finish in less than a minute."
   ]
  },
  {
   "cell_type": "code",
   "execution_count": 16,
   "metadata": {
    "id": "kbmBxnzLiUJx"
   },
   "outputs": [
    {
     "name": "stderr",
     "output_type": "stream",
     "text": [
      "Episode 119911:  60%|█████▉    | 119912/200000 [6:53:38<4:36:15,  4.83it/s, episode_reward=200, running_reward=200]\n"
     ]
    },
    {
     "ename": "KeyboardInterrupt",
     "evalue": "",
     "output_type": "error",
     "traceback": [
      "\u001b[0;31m---------------------------------------------------------------------------\u001b[0m",
      "\u001b[0;31mKeyboardInterrupt\u001b[0m                         Traceback (most recent call last)",
      "\u001b[0;32m<timed exec>\u001b[0m in \u001b[0;36m<module>\u001b[0;34m\u001b[0m\n",
      "\u001b[0;32m/usr/local/lib/python3.6/dist-packages/tensorflow/python/eager/def_function.py\u001b[0m in \u001b[0;36m__call__\u001b[0;34m(self, *args, **kwds)\u001b[0m\n\u001b[1;32m    826\u001b[0m     \u001b[0mtracing_count\u001b[0m \u001b[0;34m=\u001b[0m \u001b[0mself\u001b[0m\u001b[0;34m.\u001b[0m\u001b[0mexperimental_get_tracing_count\u001b[0m\u001b[0;34m(\u001b[0m\u001b[0;34m)\u001b[0m\u001b[0;34m\u001b[0m\u001b[0;34m\u001b[0m\u001b[0m\n\u001b[1;32m    827\u001b[0m     \u001b[0;32mwith\u001b[0m \u001b[0mtrace\u001b[0m\u001b[0;34m.\u001b[0m\u001b[0mTrace\u001b[0m\u001b[0;34m(\u001b[0m\u001b[0mself\u001b[0m\u001b[0;34m.\u001b[0m\u001b[0m_name\u001b[0m\u001b[0;34m)\u001b[0m \u001b[0;32mas\u001b[0m \u001b[0mtm\u001b[0m\u001b[0;34m:\u001b[0m\u001b[0;34m\u001b[0m\u001b[0;34m\u001b[0m\u001b[0m\n\u001b[0;32m--> 828\u001b[0;31m       \u001b[0mresult\u001b[0m \u001b[0;34m=\u001b[0m \u001b[0mself\u001b[0m\u001b[0;34m.\u001b[0m\u001b[0m_call\u001b[0m\u001b[0;34m(\u001b[0m\u001b[0;34m*\u001b[0m\u001b[0margs\u001b[0m\u001b[0;34m,\u001b[0m \u001b[0;34m**\u001b[0m\u001b[0mkwds\u001b[0m\u001b[0;34m)\u001b[0m\u001b[0;34m\u001b[0m\u001b[0;34m\u001b[0m\u001b[0m\n\u001b[0m\u001b[1;32m    829\u001b[0m       \u001b[0mcompiler\u001b[0m \u001b[0;34m=\u001b[0m \u001b[0;34m\"xla\"\u001b[0m \u001b[0;32mif\u001b[0m \u001b[0mself\u001b[0m\u001b[0;34m.\u001b[0m\u001b[0m_experimental_compile\u001b[0m \u001b[0;32melse\u001b[0m \u001b[0;34m\"nonXla\"\u001b[0m\u001b[0;34m\u001b[0m\u001b[0;34m\u001b[0m\u001b[0m\n\u001b[1;32m    830\u001b[0m       \u001b[0mnew_tracing_count\u001b[0m \u001b[0;34m=\u001b[0m \u001b[0mself\u001b[0m\u001b[0;34m.\u001b[0m\u001b[0mexperimental_get_tracing_count\u001b[0m\u001b[0;34m(\u001b[0m\u001b[0;34m)\u001b[0m\u001b[0;34m\u001b[0m\u001b[0;34m\u001b[0m\u001b[0m\n",
      "\u001b[0;32m/usr/local/lib/python3.6/dist-packages/tensorflow/python/eager/def_function.py\u001b[0m in \u001b[0;36m_call\u001b[0;34m(self, *args, **kwds)\u001b[0m\n\u001b[1;32m    853\u001b[0m       \u001b[0;31m# In this case we have created variables on the first call, so we run the\u001b[0m\u001b[0;34m\u001b[0m\u001b[0;34m\u001b[0m\u001b[0;34m\u001b[0m\u001b[0m\n\u001b[1;32m    854\u001b[0m       \u001b[0;31m# defunned version which is guaranteed to never create variables.\u001b[0m\u001b[0;34m\u001b[0m\u001b[0;34m\u001b[0m\u001b[0;34m\u001b[0m\u001b[0m\n\u001b[0;32m--> 855\u001b[0;31m       \u001b[0;32mreturn\u001b[0m \u001b[0mself\u001b[0m\u001b[0;34m.\u001b[0m\u001b[0m_stateless_fn\u001b[0m\u001b[0;34m(\u001b[0m\u001b[0;34m*\u001b[0m\u001b[0margs\u001b[0m\u001b[0;34m,\u001b[0m \u001b[0;34m**\u001b[0m\u001b[0mkwds\u001b[0m\u001b[0;34m)\u001b[0m  \u001b[0;31m# pylint: disable=not-callable\u001b[0m\u001b[0;34m\u001b[0m\u001b[0;34m\u001b[0m\u001b[0m\n\u001b[0m\u001b[1;32m    856\u001b[0m     \u001b[0;32melif\u001b[0m \u001b[0mself\u001b[0m\u001b[0;34m.\u001b[0m\u001b[0m_stateful_fn\u001b[0m \u001b[0;32mis\u001b[0m \u001b[0;32mnot\u001b[0m \u001b[0;32mNone\u001b[0m\u001b[0;34m:\u001b[0m\u001b[0;34m\u001b[0m\u001b[0;34m\u001b[0m\u001b[0m\n\u001b[1;32m    857\u001b[0m       \u001b[0;31m# Release the lock early so that multiple threads can perform the call\u001b[0m\u001b[0;34m\u001b[0m\u001b[0;34m\u001b[0m\u001b[0;34m\u001b[0m\u001b[0m\n",
      "\u001b[0;32m/usr/local/lib/python3.6/dist-packages/tensorflow/python/eager/function.py\u001b[0m in \u001b[0;36m__call__\u001b[0;34m(self, *args, **kwargs)\u001b[0m\n\u001b[1;32m   2941\u001b[0m        filtered_flat_args) = self._maybe_define_function(args, kwargs)\n\u001b[1;32m   2942\u001b[0m     return graph_function._call_flat(\n\u001b[0;32m-> 2943\u001b[0;31m         filtered_flat_args, captured_inputs=graph_function.captured_inputs)  # pylint: disable=protected-access\n\u001b[0m\u001b[1;32m   2944\u001b[0m \u001b[0;34m\u001b[0m\u001b[0m\n\u001b[1;32m   2945\u001b[0m   \u001b[0;34m@\u001b[0m\u001b[0mproperty\u001b[0m\u001b[0;34m\u001b[0m\u001b[0;34m\u001b[0m\u001b[0m\n",
      "\u001b[0;32m/usr/local/lib/python3.6/dist-packages/tensorflow/python/eager/function.py\u001b[0m in \u001b[0;36m_call_flat\u001b[0;34m(self, args, captured_inputs, cancellation_manager)\u001b[0m\n\u001b[1;32m   1917\u001b[0m       \u001b[0;31m# No tape is watching; skip to running the function.\u001b[0m\u001b[0;34m\u001b[0m\u001b[0;34m\u001b[0m\u001b[0;34m\u001b[0m\u001b[0m\n\u001b[1;32m   1918\u001b[0m       return self._build_call_outputs(self._inference_function.call(\n\u001b[0;32m-> 1919\u001b[0;31m           ctx, args, cancellation_manager=cancellation_manager))\n\u001b[0m\u001b[1;32m   1920\u001b[0m     forward_backward = self._select_forward_and_backward_functions(\n\u001b[1;32m   1921\u001b[0m         \u001b[0margs\u001b[0m\u001b[0;34m,\u001b[0m\u001b[0;34m\u001b[0m\u001b[0;34m\u001b[0m\u001b[0m\n",
      "\u001b[0;32m/usr/local/lib/python3.6/dist-packages/tensorflow/python/eager/function.py\u001b[0m in \u001b[0;36mcall\u001b[0;34m(self, ctx, args, cancellation_manager)\u001b[0m\n\u001b[1;32m    558\u001b[0m               \u001b[0minputs\u001b[0m\u001b[0;34m=\u001b[0m\u001b[0margs\u001b[0m\u001b[0;34m,\u001b[0m\u001b[0;34m\u001b[0m\u001b[0;34m\u001b[0m\u001b[0m\n\u001b[1;32m    559\u001b[0m               \u001b[0mattrs\u001b[0m\u001b[0;34m=\u001b[0m\u001b[0mattrs\u001b[0m\u001b[0;34m,\u001b[0m\u001b[0;34m\u001b[0m\u001b[0;34m\u001b[0m\u001b[0m\n\u001b[0;32m--> 560\u001b[0;31m               ctx=ctx)\n\u001b[0m\u001b[1;32m    561\u001b[0m         \u001b[0;32melse\u001b[0m\u001b[0;34m:\u001b[0m\u001b[0;34m\u001b[0m\u001b[0;34m\u001b[0m\u001b[0m\n\u001b[1;32m    562\u001b[0m           outputs = execute.execute_with_cancellation(\n",
      "\u001b[0;32m/usr/local/lib/python3.6/dist-packages/tensorflow/python/eager/execute.py\u001b[0m in \u001b[0;36mquick_execute\u001b[0;34m(op_name, num_outputs, inputs, attrs, ctx, name)\u001b[0m\n\u001b[1;32m     58\u001b[0m     \u001b[0mctx\u001b[0m\u001b[0;34m.\u001b[0m\u001b[0mensure_initialized\u001b[0m\u001b[0;34m(\u001b[0m\u001b[0;34m)\u001b[0m\u001b[0;34m\u001b[0m\u001b[0;34m\u001b[0m\u001b[0m\n\u001b[1;32m     59\u001b[0m     tensors = pywrap_tfe.TFE_Py_Execute(ctx._handle, device_name, op_name,\n\u001b[0;32m---> 60\u001b[0;31m                                         inputs, attrs, num_outputs)\n\u001b[0m\u001b[1;32m     61\u001b[0m   \u001b[0;32mexcept\u001b[0m \u001b[0mcore\u001b[0m\u001b[0;34m.\u001b[0m\u001b[0m_NotOkStatusException\u001b[0m \u001b[0;32mas\u001b[0m \u001b[0me\u001b[0m\u001b[0;34m:\u001b[0m\u001b[0;34m\u001b[0m\u001b[0;34m\u001b[0m\u001b[0m\n\u001b[1;32m     62\u001b[0m     \u001b[0;32mif\u001b[0m \u001b[0mname\u001b[0m \u001b[0;32mis\u001b[0m \u001b[0;32mnot\u001b[0m \u001b[0;32mNone\u001b[0m\u001b[0;34m:\u001b[0m\u001b[0;34m\u001b[0m\u001b[0;34m\u001b[0m\u001b[0m\n",
      "\u001b[0;31mKeyboardInterrupt\u001b[0m: "
     ]
    }
   ],
   "source": [
    "%%time\n",
    "\n",
    "max_episodes = 200000\n",
    "max_steps_per_episode = 20000\n",
    "\n",
    "# Cartpole-v0 is considered solved if average reward is >= 195 over 100 \n",
    "# consecutive trials\n",
    "reward_threshold = 1950\n",
    "running_reward = 0\n",
    "\n",
    "# Discount factor for future rewards\n",
    "gamma = 0.99\n",
    "\n",
    "with tqdm.trange(max_episodes) as t:\n",
    "  for i in t:\n",
    "    initial_state = tf.constant(env.reset(), dtype=tf.float32)\n",
    "    episode_reward = int(train_step(\n",
    "        initial_state, model, optimizer, gamma, max_steps_per_episode))\n",
    "\n",
    "    running_reward = episode_reward*0.01 + running_reward*.99\n",
    "  \n",
    "    t.set_description(f'Episode {i}')\n",
    "    t.set_postfix(\n",
    "        episode_reward=episode_reward, running_reward=running_reward)\n",
    "  \n",
    "    # Show average episode reward every 10 episodes\n",
    "    if i % 10 == 0:\n",
    "      pass # print(f'Episode {i}: average reward: {avg_reward}')\n",
    "  \n",
    "    if running_reward > reward_threshold:  \n",
    "        break\n",
    "\n",
    "print(f'\\nSolved at episode {i}: average reward: {running_reward:.2f}!')"
   ]
  },
  {
   "cell_type": "markdown",
   "metadata": {
    "id": "ru8BEwS1EmAv"
   },
   "source": [
    "## Visualization\n",
    "\n",
    "After training, it would be good to visualize how the model performs in the environment. You can run the cells below to generate a GIF animation of one episode run of the model. Note that additional packages need to be installed for OpenAI Gym to render the environment's images correctly in Colab."
   ]
  },
  {
   "cell_type": "code",
   "execution_count": 13,
   "metadata": {
    "id": "qbIMMkfmRHyC"
   },
   "outputs": [],
   "source": [
    "# Render an episode and save as a GIF file\n",
    "\n",
    "from IPython import display as ipythondisplay\n",
    "from PIL import Image\n",
    "from pyvirtualdisplay import Display\n",
    "\n",
    "\n",
    "display = Display(visible=0, size=(400, 300))\n",
    "display.start()\n",
    "\n",
    "\n",
    "def render_episode(env: gym.Env, model: tf.keras.Model, max_steps: int): \n",
    "  screen = env.render(mode='rgb_array')\n",
    "  im = Image.fromarray(screen)\n",
    "\n",
    "  images = [im]\n",
    "  \n",
    "  state = tf.constant(env.reset(), dtype=tf.float32)\n",
    "  for i in range(1, max_steps + 1):\n",
    "    state = tf.expand_dims(state, 0)\n",
    "    action_probs, _ = model(state)\n",
    "    action = np.argmax(np.squeeze(action_probs))\n",
    "\n",
    "    state, _, done, _ = env.step(action)\n",
    "    state = tf.constant(state, dtype=tf.float32)\n",
    "\n",
    "    # Render screen every 10 steps\n",
    "    if i % 10 == 0:\n",
    "      screen = env.render(mode='rgb_array')\n",
    "      images.append(Image.fromarray(screen))\n",
    "  \n",
    "    if done:\n",
    "      break\n",
    "  \n",
    "  return images\n",
    "\n",
    "\n",
    "# Save GIF image\n",
    "images = render_episode(env, model, max_steps_per_episode)\n",
    "image_file = 'cartpole-v0.gif'\n",
    "# loop=0: loop forever, duration=1: play each frame for 1ms\n",
    "images[0].save(\n",
    "    image_file, save_all=True, append_images=images[1:], loop=0, duration=1)"
   ]
  },
  {
   "cell_type": "code",
   "execution_count": 14,
   "metadata": {
    "id": "TLd720SejKmf"
   },
   "outputs": [
    {
     "data": {
      "text/html": [
       "<img src=\"data:image/gif;base64,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\"/>"
      ],
      "text/plain": [
       "<IPython.core.display.HTML object>"
      ]
     },
     "execution_count": 14,
     "metadata": {},
     "output_type": "execute_result"
    }
   ],
   "source": [
    "import tensorflow_docs.vis.embed as embed\n",
    "embed.embed_file(image_file)"
   ]
  },
  {
   "cell_type": "markdown",
   "metadata": {
    "id": "lnq9Hzo1Po6X"
   },
   "source": [
    "## Next steps\n",
    "\n",
    "This tutorial demonstrated how to implement the actor-critic method using Tensorflow.\n",
    "\n",
    "As a next step, you could try training a model on a different environment in OpenAI Gym. \n",
    "\n",
    "For additional information regarding actor-critic methods and the Cartpole-v0 problem, you may refer to the following resources:\n",
    "\n",
    "- [Actor Critic Method](https://hal.inria.fr/hal-00840470/document)\n",
    "- [Actor Critic Lecture (CAL)](https://www.youtube.com/watch?v=EKqxumCuAAY&list=PLkFD6_40KJIwhWJpGazJ9VSj9CFMkb79A&index=7&t=0s)\n",
    "- [Cartpole learning control problem \\[Barto, et al. 1983\\]](http://www.derongliu.org/adp/adp-cdrom/Barto1983.pdf) \n",
    "\n",
    "For more reinforcement learning examples in TensorFlow, you can check the following resources:\n",
    "- [Reinforcement learning code examples (keras.io)](https://keras.io/examples/rl/)\n",
    "- [TF-Agents reinforcement learning library](https://www.tensorflow.org/agents)\n"
   ]
  }
 ],
 "metadata": {
  "colab": {
   "collapsed_sections": [
    "_jQ1tEQCxwRx"
   ],
   "name": "actor_critic.ipynb",
   "toc_visible": true
  },
  "kernelspec": {
   "display_name": "Python 3",
   "language": "python",
   "name": "python3"
  },
  "language_info": {
   "codemirror_mode": {
    "name": "ipython",
    "version": 3
   },
   "file_extension": ".py",
   "mimetype": "text/x-python",
   "name": "python",
   "nbconvert_exporter": "python",
   "pygments_lexer": "ipython3",
   "version": "3.6.9"
  },
  "varInspector": {
   "cols": {
    "lenName": 16,
    "lenType": 16,
    "lenVar": 40
   },
   "kernels_config": {
    "python": {
     "delete_cmd_postfix": "",
     "delete_cmd_prefix": "del ",
     "library": "var_list.py",
     "varRefreshCmd": "print(var_dic_list())"
    },
    "r": {
     "delete_cmd_postfix": ") ",
     "delete_cmd_prefix": "rm(",
     "library": "var_list.r",
     "varRefreshCmd": "cat(var_dic_list()) "
    }
   },
   "types_to_exclude": [
    "module",
    "function",
    "builtin_function_or_method",
    "instance",
    "_Feature"
   ],
   "window_display": false
  }
 },
 "nbformat": 4,
 "nbformat_minor": 1
}
